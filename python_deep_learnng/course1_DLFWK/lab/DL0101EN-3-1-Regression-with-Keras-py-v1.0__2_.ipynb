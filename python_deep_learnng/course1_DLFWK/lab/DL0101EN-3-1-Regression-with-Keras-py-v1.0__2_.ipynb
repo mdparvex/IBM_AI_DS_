{
 "cells": [
  {
   "cell_type": "markdown",
   "metadata": {
    "button": false,
    "new_sheet": false,
    "run_control": {
     "read_only": false
    }
   },
   "source": [
    "<a href=\"https://cognitiveclass.ai\"><img src = \"https://s3-api.us-geo.objectstorage.softlayer.net/cf-courses-data/CognitiveClass/Logos/organization_logo/organization_logo.png\" width = 400> </a>\n",
    "\n",
    "<h1 align=center><font size = 5>Regression Models with Keras</font></h1>\n"
   ]
  },
  {
   "cell_type": "markdown",
   "metadata": {
    "button": false,
    "new_sheet": false,
    "run_control": {
     "read_only": false
    }
   },
   "source": [
    "## Introduction\n"
   ]
  },
  {
   "cell_type": "markdown",
   "metadata": {
    "button": false,
    "new_sheet": false,
    "run_control": {
     "read_only": false
    }
   },
   "source": [
    "As we discussed in the videos, despite the popularity of more powerful libraries such as PyToch and TensorFlow, they are not easy to use and have a steep learning curve. So, for people who are just starting to learn deep learning, there is no better library to use other than the Keras library. \n",
    "\n",
    "Keras is a high-level API for building deep learning models. It has gained favor for its ease of use and syntactic simplicity facilitating fast development. As you will see in this lab and the other labs in this course, building a very complex deep learning network can be achieved with Keras with only few lines of code. You will appreciate Keras even more, once you learn how to build deep models using PyTorch and TensorFlow in the other courses.\n",
    "\n",
    "So, in this lab, you will learn how to use the Keras library to build a regression model.\n"
   ]
  },
  {
   "cell_type": "markdown",
   "metadata": {},
   "source": [
    "<h2>Regression Models with Keras</h2>\n",
    "\n",
    "<h3>Objective for this Notebook<h3>    \n",
    "<h5> 1. How to use the Keras library to build a regression model.</h5>\n",
    "<h5> 2. Download and Clean dataset </h5>\n",
    "<h5> 3. Build a Neural Network </h5>\n",
    "<h5> 4. Train and Test the Network. </h5>     \n"
   ]
  },
  {
   "cell_type": "markdown",
   "metadata": {
    "button": false,
    "new_sheet": false,
    "run_control": {
     "read_only": false
    }
   },
   "source": [
    "## Table of Contents\n",
    "\n",
    "<div class=\"alert alert-block alert-info\" style=\"margin-top: 20px\">\n",
    "\n",
    "<font size = 3>\n",
    "    \n",
    "1. <a href=\"#item31\">Download and Clean Dataset</a>  \n",
    "2. <a href=\"#item32\">Import Keras</a>  \n",
    "3. <a href=\"#item33\">Build a Neural Network</a>  \n",
    "4. <a href=\"#item34\">Train and Test the Network</a>  \n",
    "\n",
    "</font>\n",
    "</div>\n"
   ]
  },
  {
   "cell_type": "markdown",
   "metadata": {
    "button": false,
    "new_sheet": false,
    "run_control": {
     "read_only": false
    }
   },
   "source": [
    "<a id=\"item31\"></a>\n"
   ]
  },
  {
   "cell_type": "markdown",
   "metadata": {
    "button": false,
    "new_sheet": false,
    "run_control": {
     "read_only": false
    }
   },
   "source": [
    "## Download and Clean Dataset\n"
   ]
  },
  {
   "cell_type": "markdown",
   "metadata": {
    "button": false,
    "new_sheet": false,
    "run_control": {
     "read_only": false
    }
   },
   "source": [
    "Let's start by importing the <em>pandas</em> and the Numpy libraries.\n"
   ]
  },
  {
   "cell_type": "code",
   "execution_count": 1,
   "metadata": {
    "button": false,
    "new_sheet": false,
    "run_control": {
     "read_only": false
    }
   },
   "outputs": [],
   "source": [
    "import pandas as pd\n",
    "import numpy as np"
   ]
  },
  {
   "cell_type": "markdown",
   "metadata": {
    "button": false,
    "new_sheet": false,
    "run_control": {
     "read_only": false
    }
   },
   "source": [
    "We will be playing around with the same dataset that we used in the videos.\n",
    "\n",
    "<strong>The dataset is about the compressive strength of different samples of concrete based on the volumes of the different ingredients that were used to make them. Ingredients include:</strong>\n",
    "\n",
    "<strong>1. Cement</strong>\n",
    "\n",
    "<strong>2. Blast Furnace Slag</strong>\n",
    "\n",
    "<strong>3. Fly Ash</strong>\n",
    "\n",
    "<strong>4. Water</strong>\n",
    "\n",
    "<strong>5. Superplasticizer</strong>\n",
    "\n",
    "<strong>6. Coarse Aggregate</strong>\n",
    "\n",
    "<strong>7. Fine Aggregate</strong>\n"
   ]
  },
  {
   "cell_type": "markdown",
   "metadata": {
    "button": false,
    "new_sheet": false,
    "run_control": {
     "read_only": false
    }
   },
   "source": [
    "Let's download the data and read it into a <em>pandas</em> dataframe.\n"
   ]
  },
  {
   "cell_type": "code",
   "execution_count": 2,
   "metadata": {
    "button": false,
    "new_sheet": false,
    "run_control": {
     "read_only": false
    }
   },
   "outputs": [
    {
     "data": {
      "text/html": [
       "<div>\n",
       "<style scoped>\n",
       "    .dataframe tbody tr th:only-of-type {\n",
       "        vertical-align: middle;\n",
       "    }\n",
       "\n",
       "    .dataframe tbody tr th {\n",
       "        vertical-align: top;\n",
       "    }\n",
       "\n",
       "    .dataframe thead th {\n",
       "        text-align: right;\n",
       "    }\n",
       "</style>\n",
       "<table border=\"1\" class=\"dataframe\">\n",
       "  <thead>\n",
       "    <tr style=\"text-align: right;\">\n",
       "      <th></th>\n",
       "      <th>Cement</th>\n",
       "      <th>Blast Furnace Slag</th>\n",
       "      <th>Fly Ash</th>\n",
       "      <th>Water</th>\n",
       "      <th>Superplasticizer</th>\n",
       "      <th>Coarse Aggregate</th>\n",
       "      <th>Fine Aggregate</th>\n",
       "      <th>Age</th>\n",
       "      <th>Strength</th>\n",
       "    </tr>\n",
       "  </thead>\n",
       "  <tbody>\n",
       "    <tr>\n",
       "      <th>0</th>\n",
       "      <td>540.0</td>\n",
       "      <td>0.0</td>\n",
       "      <td>0.0</td>\n",
       "      <td>162.0</td>\n",
       "      <td>2.5</td>\n",
       "      <td>1040.0</td>\n",
       "      <td>676.0</td>\n",
       "      <td>28</td>\n",
       "      <td>79.99</td>\n",
       "    </tr>\n",
       "    <tr>\n",
       "      <th>1</th>\n",
       "      <td>540.0</td>\n",
       "      <td>0.0</td>\n",
       "      <td>0.0</td>\n",
       "      <td>162.0</td>\n",
       "      <td>2.5</td>\n",
       "      <td>1055.0</td>\n",
       "      <td>676.0</td>\n",
       "      <td>28</td>\n",
       "      <td>61.89</td>\n",
       "    </tr>\n",
       "    <tr>\n",
       "      <th>2</th>\n",
       "      <td>332.5</td>\n",
       "      <td>142.5</td>\n",
       "      <td>0.0</td>\n",
       "      <td>228.0</td>\n",
       "      <td>0.0</td>\n",
       "      <td>932.0</td>\n",
       "      <td>594.0</td>\n",
       "      <td>270</td>\n",
       "      <td>40.27</td>\n",
       "    </tr>\n",
       "    <tr>\n",
       "      <th>3</th>\n",
       "      <td>332.5</td>\n",
       "      <td>142.5</td>\n",
       "      <td>0.0</td>\n",
       "      <td>228.0</td>\n",
       "      <td>0.0</td>\n",
       "      <td>932.0</td>\n",
       "      <td>594.0</td>\n",
       "      <td>365</td>\n",
       "      <td>41.05</td>\n",
       "    </tr>\n",
       "    <tr>\n",
       "      <th>4</th>\n",
       "      <td>198.6</td>\n",
       "      <td>132.4</td>\n",
       "      <td>0.0</td>\n",
       "      <td>192.0</td>\n",
       "      <td>0.0</td>\n",
       "      <td>978.4</td>\n",
       "      <td>825.5</td>\n",
       "      <td>360</td>\n",
       "      <td>44.30</td>\n",
       "    </tr>\n",
       "  </tbody>\n",
       "</table>\n",
       "</div>"
      ],
      "text/plain": [
       "   Cement  Blast Furnace Slag  Fly Ash  Water  Superplasticizer  \\\n",
       "0   540.0                 0.0      0.0  162.0               2.5   \n",
       "1   540.0                 0.0      0.0  162.0               2.5   \n",
       "2   332.5               142.5      0.0  228.0               0.0   \n",
       "3   332.5               142.5      0.0  228.0               0.0   \n",
       "4   198.6               132.4      0.0  192.0               0.0   \n",
       "\n",
       "   Coarse Aggregate  Fine Aggregate  Age  Strength  \n",
       "0            1040.0           676.0   28     79.99  \n",
       "1            1055.0           676.0   28     61.89  \n",
       "2             932.0           594.0  270     40.27  \n",
       "3             932.0           594.0  365     41.05  \n",
       "4             978.4           825.5  360     44.30  "
      ]
     },
     "execution_count": 2,
     "metadata": {},
     "output_type": "execute_result"
    }
   ],
   "source": [
    "concrete_data = pd.read_csv('https://s3-api.us-geo.objectstorage.softlayer.net/cf-courses-data/CognitiveClass/DL0101EN/labs/data/concrete_data.csv')\n",
    "concrete_data.head()"
   ]
  },
  {
   "cell_type": "markdown",
   "metadata": {
    "button": false,
    "new_sheet": false,
    "run_control": {
     "read_only": false
    }
   },
   "source": [
    "So the first concrete sample has 540 cubic meter of cement, 0 cubic meter of blast furnace slag, 0 cubic meter of fly ash, 162 cubic meter of water, 2.5 cubic meter of superplaticizer, 1040 cubic meter of coarse aggregate, 676 cubic meter of fine aggregate. Such a concrete mix which is 28 days old, has a compressive strength of 79.99 MPa. \n"
   ]
  },
  {
   "cell_type": "markdown",
   "metadata": {
    "button": false,
    "new_sheet": false,
    "run_control": {
     "read_only": false
    }
   },
   "source": [
    "#### Let's check how many data points we have.\n"
   ]
  },
  {
   "cell_type": "code",
   "execution_count": 3,
   "metadata": {
    "button": false,
    "new_sheet": false,
    "run_control": {
     "read_only": false
    }
   },
   "outputs": [
    {
     "data": {
      "text/plain": [
       "(1030, 9)"
      ]
     },
     "execution_count": 3,
     "metadata": {},
     "output_type": "execute_result"
    }
   ],
   "source": [
    "concrete_data.shape"
   ]
  },
  {
   "cell_type": "markdown",
   "metadata": {
    "button": false,
    "new_sheet": false,
    "run_control": {
     "read_only": false
    }
   },
   "source": [
    "So, there are approximately 1000 samples to train our model on. Because of the few samples, we have to be careful not to overfit the training data.\n"
   ]
  },
  {
   "cell_type": "markdown",
   "metadata": {
    "button": false,
    "new_sheet": false,
    "run_control": {
     "read_only": false
    }
   },
   "source": [
    "Let's check the dataset for any missing values.\n"
   ]
  },
  {
   "cell_type": "code",
   "execution_count": 4,
   "metadata": {
    "button": false,
    "new_sheet": false,
    "run_control": {
     "read_only": false
    }
   },
   "outputs": [
    {
     "data": {
      "text/html": [
       "<div>\n",
       "<style scoped>\n",
       "    .dataframe tbody tr th:only-of-type {\n",
       "        vertical-align: middle;\n",
       "    }\n",
       "\n",
       "    .dataframe tbody tr th {\n",
       "        vertical-align: top;\n",
       "    }\n",
       "\n",
       "    .dataframe thead th {\n",
       "        text-align: right;\n",
       "    }\n",
       "</style>\n",
       "<table border=\"1\" class=\"dataframe\">\n",
       "  <thead>\n",
       "    <tr style=\"text-align: right;\">\n",
       "      <th></th>\n",
       "      <th>Cement</th>\n",
       "      <th>Blast Furnace Slag</th>\n",
       "      <th>Fly Ash</th>\n",
       "      <th>Water</th>\n",
       "      <th>Superplasticizer</th>\n",
       "      <th>Coarse Aggregate</th>\n",
       "      <th>Fine Aggregate</th>\n",
       "      <th>Age</th>\n",
       "      <th>Strength</th>\n",
       "    </tr>\n",
       "  </thead>\n",
       "  <tbody>\n",
       "    <tr>\n",
       "      <th>count</th>\n",
       "      <td>1030.000000</td>\n",
       "      <td>1030.000000</td>\n",
       "      <td>1030.000000</td>\n",
       "      <td>1030.000000</td>\n",
       "      <td>1030.000000</td>\n",
       "      <td>1030.000000</td>\n",
       "      <td>1030.000000</td>\n",
       "      <td>1030.000000</td>\n",
       "      <td>1030.000000</td>\n",
       "    </tr>\n",
       "    <tr>\n",
       "      <th>mean</th>\n",
       "      <td>281.167864</td>\n",
       "      <td>73.895825</td>\n",
       "      <td>54.188350</td>\n",
       "      <td>181.567282</td>\n",
       "      <td>6.204660</td>\n",
       "      <td>972.918932</td>\n",
       "      <td>773.580485</td>\n",
       "      <td>45.662136</td>\n",
       "      <td>35.817961</td>\n",
       "    </tr>\n",
       "    <tr>\n",
       "      <th>std</th>\n",
       "      <td>104.506364</td>\n",
       "      <td>86.279342</td>\n",
       "      <td>63.997004</td>\n",
       "      <td>21.354219</td>\n",
       "      <td>5.973841</td>\n",
       "      <td>77.753954</td>\n",
       "      <td>80.175980</td>\n",
       "      <td>63.169912</td>\n",
       "      <td>16.705742</td>\n",
       "    </tr>\n",
       "    <tr>\n",
       "      <th>min</th>\n",
       "      <td>102.000000</td>\n",
       "      <td>0.000000</td>\n",
       "      <td>0.000000</td>\n",
       "      <td>121.800000</td>\n",
       "      <td>0.000000</td>\n",
       "      <td>801.000000</td>\n",
       "      <td>594.000000</td>\n",
       "      <td>1.000000</td>\n",
       "      <td>2.330000</td>\n",
       "    </tr>\n",
       "    <tr>\n",
       "      <th>25%</th>\n",
       "      <td>192.375000</td>\n",
       "      <td>0.000000</td>\n",
       "      <td>0.000000</td>\n",
       "      <td>164.900000</td>\n",
       "      <td>0.000000</td>\n",
       "      <td>932.000000</td>\n",
       "      <td>730.950000</td>\n",
       "      <td>7.000000</td>\n",
       "      <td>23.710000</td>\n",
       "    </tr>\n",
       "    <tr>\n",
       "      <th>50%</th>\n",
       "      <td>272.900000</td>\n",
       "      <td>22.000000</td>\n",
       "      <td>0.000000</td>\n",
       "      <td>185.000000</td>\n",
       "      <td>6.400000</td>\n",
       "      <td>968.000000</td>\n",
       "      <td>779.500000</td>\n",
       "      <td>28.000000</td>\n",
       "      <td>34.445000</td>\n",
       "    </tr>\n",
       "    <tr>\n",
       "      <th>75%</th>\n",
       "      <td>350.000000</td>\n",
       "      <td>142.950000</td>\n",
       "      <td>118.300000</td>\n",
       "      <td>192.000000</td>\n",
       "      <td>10.200000</td>\n",
       "      <td>1029.400000</td>\n",
       "      <td>824.000000</td>\n",
       "      <td>56.000000</td>\n",
       "      <td>46.135000</td>\n",
       "    </tr>\n",
       "    <tr>\n",
       "      <th>max</th>\n",
       "      <td>540.000000</td>\n",
       "      <td>359.400000</td>\n",
       "      <td>200.100000</td>\n",
       "      <td>247.000000</td>\n",
       "      <td>32.200000</td>\n",
       "      <td>1145.000000</td>\n",
       "      <td>992.600000</td>\n",
       "      <td>365.000000</td>\n",
       "      <td>82.600000</td>\n",
       "    </tr>\n",
       "  </tbody>\n",
       "</table>\n",
       "</div>"
      ],
      "text/plain": [
       "            Cement  Blast Furnace Slag      Fly Ash        Water  \\\n",
       "count  1030.000000         1030.000000  1030.000000  1030.000000   \n",
       "mean    281.167864           73.895825    54.188350   181.567282   \n",
       "std     104.506364           86.279342    63.997004    21.354219   \n",
       "min     102.000000            0.000000     0.000000   121.800000   \n",
       "25%     192.375000            0.000000     0.000000   164.900000   \n",
       "50%     272.900000           22.000000     0.000000   185.000000   \n",
       "75%     350.000000          142.950000   118.300000   192.000000   \n",
       "max     540.000000          359.400000   200.100000   247.000000   \n",
       "\n",
       "       Superplasticizer  Coarse Aggregate  Fine Aggregate          Age  \\\n",
       "count       1030.000000       1030.000000     1030.000000  1030.000000   \n",
       "mean           6.204660        972.918932      773.580485    45.662136   \n",
       "std            5.973841         77.753954       80.175980    63.169912   \n",
       "min            0.000000        801.000000      594.000000     1.000000   \n",
       "25%            0.000000        932.000000      730.950000     7.000000   \n",
       "50%            6.400000        968.000000      779.500000    28.000000   \n",
       "75%           10.200000       1029.400000      824.000000    56.000000   \n",
       "max           32.200000       1145.000000      992.600000   365.000000   \n",
       "\n",
       "          Strength  \n",
       "count  1030.000000  \n",
       "mean     35.817961  \n",
       "std      16.705742  \n",
       "min       2.330000  \n",
       "25%      23.710000  \n",
       "50%      34.445000  \n",
       "75%      46.135000  \n",
       "max      82.600000  "
      ]
     },
     "execution_count": 4,
     "metadata": {},
     "output_type": "execute_result"
    }
   ],
   "source": [
    "concrete_data.describe()"
   ]
  },
  {
   "cell_type": "code",
   "execution_count": 5,
   "metadata": {
    "button": false,
    "new_sheet": false,
    "run_control": {
     "read_only": false
    }
   },
   "outputs": [
    {
     "data": {
      "text/plain": [
       "Cement                0\n",
       "Blast Furnace Slag    0\n",
       "Fly Ash               0\n",
       "Water                 0\n",
       "Superplasticizer      0\n",
       "Coarse Aggregate      0\n",
       "Fine Aggregate        0\n",
       "Age                   0\n",
       "Strength              0\n",
       "dtype: int64"
      ]
     },
     "execution_count": 5,
     "metadata": {},
     "output_type": "execute_result"
    }
   ],
   "source": [
    "concrete_data.isnull().sum()"
   ]
  },
  {
   "cell_type": "markdown",
   "metadata": {
    "button": false,
    "new_sheet": false,
    "run_control": {
     "read_only": false
    }
   },
   "source": [
    "The data looks very clean and is ready to be used to build our model.\n"
   ]
  },
  {
   "cell_type": "markdown",
   "metadata": {
    "button": false,
    "new_sheet": false,
    "run_control": {
     "read_only": false
    }
   },
   "source": [
    "#### Split data into predictors and target\n"
   ]
  },
  {
   "cell_type": "markdown",
   "metadata": {},
   "source": [
    "The target variable in this problem is the concrete sample strength. Therefore, our predictors will be all the other columns.\n"
   ]
  },
  {
   "cell_type": "code",
   "execution_count": 6,
   "metadata": {
    "button": false,
    "new_sheet": false,
    "run_control": {
     "read_only": false
    }
   },
   "outputs": [],
   "source": [
    "concrete_data_columns = concrete_data.columns\n",
    "\n",
    "predictors = concrete_data[concrete_data_columns[concrete_data_columns != 'Strength']] # all columns except Strength\n",
    "target = concrete_data['Strength'] # Strength column"
   ]
  },
  {
   "cell_type": "markdown",
   "metadata": {
    "button": false,
    "new_sheet": false,
    "run_control": {
     "read_only": false
    }
   },
   "source": [
    "<a id=\"item2\"></a>\n"
   ]
  },
  {
   "cell_type": "markdown",
   "metadata": {
    "button": false,
    "new_sheet": false,
    "run_control": {
     "read_only": false
    }
   },
   "source": [
    "Let's do a quick sanity check of the predictors and the target dataframes.\n"
   ]
  },
  {
   "cell_type": "code",
   "execution_count": 7,
   "metadata": {
    "button": false,
    "new_sheet": false,
    "run_control": {
     "read_only": false
    }
   },
   "outputs": [
    {
     "data": {
      "text/html": [
       "<div>\n",
       "<style scoped>\n",
       "    .dataframe tbody tr th:only-of-type {\n",
       "        vertical-align: middle;\n",
       "    }\n",
       "\n",
       "    .dataframe tbody tr th {\n",
       "        vertical-align: top;\n",
       "    }\n",
       "\n",
       "    .dataframe thead th {\n",
       "        text-align: right;\n",
       "    }\n",
       "</style>\n",
       "<table border=\"1\" class=\"dataframe\">\n",
       "  <thead>\n",
       "    <tr style=\"text-align: right;\">\n",
       "      <th></th>\n",
       "      <th>Cement</th>\n",
       "      <th>Blast Furnace Slag</th>\n",
       "      <th>Fly Ash</th>\n",
       "      <th>Water</th>\n",
       "      <th>Superplasticizer</th>\n",
       "      <th>Coarse Aggregate</th>\n",
       "      <th>Fine Aggregate</th>\n",
       "      <th>Age</th>\n",
       "    </tr>\n",
       "  </thead>\n",
       "  <tbody>\n",
       "    <tr>\n",
       "      <th>0</th>\n",
       "      <td>540.0</td>\n",
       "      <td>0.0</td>\n",
       "      <td>0.0</td>\n",
       "      <td>162.0</td>\n",
       "      <td>2.5</td>\n",
       "      <td>1040.0</td>\n",
       "      <td>676.0</td>\n",
       "      <td>28</td>\n",
       "    </tr>\n",
       "    <tr>\n",
       "      <th>1</th>\n",
       "      <td>540.0</td>\n",
       "      <td>0.0</td>\n",
       "      <td>0.0</td>\n",
       "      <td>162.0</td>\n",
       "      <td>2.5</td>\n",
       "      <td>1055.0</td>\n",
       "      <td>676.0</td>\n",
       "      <td>28</td>\n",
       "    </tr>\n",
       "    <tr>\n",
       "      <th>2</th>\n",
       "      <td>332.5</td>\n",
       "      <td>142.5</td>\n",
       "      <td>0.0</td>\n",
       "      <td>228.0</td>\n",
       "      <td>0.0</td>\n",
       "      <td>932.0</td>\n",
       "      <td>594.0</td>\n",
       "      <td>270</td>\n",
       "    </tr>\n",
       "    <tr>\n",
       "      <th>3</th>\n",
       "      <td>332.5</td>\n",
       "      <td>142.5</td>\n",
       "      <td>0.0</td>\n",
       "      <td>228.0</td>\n",
       "      <td>0.0</td>\n",
       "      <td>932.0</td>\n",
       "      <td>594.0</td>\n",
       "      <td>365</td>\n",
       "    </tr>\n",
       "    <tr>\n",
       "      <th>4</th>\n",
       "      <td>198.6</td>\n",
       "      <td>132.4</td>\n",
       "      <td>0.0</td>\n",
       "      <td>192.0</td>\n",
       "      <td>0.0</td>\n",
       "      <td>978.4</td>\n",
       "      <td>825.5</td>\n",
       "      <td>360</td>\n",
       "    </tr>\n",
       "  </tbody>\n",
       "</table>\n",
       "</div>"
      ],
      "text/plain": [
       "   Cement  Blast Furnace Slag  Fly Ash  Water  Superplasticizer  \\\n",
       "0   540.0                 0.0      0.0  162.0               2.5   \n",
       "1   540.0                 0.0      0.0  162.0               2.5   \n",
       "2   332.5               142.5      0.0  228.0               0.0   \n",
       "3   332.5               142.5      0.0  228.0               0.0   \n",
       "4   198.6               132.4      0.0  192.0               0.0   \n",
       "\n",
       "   Coarse Aggregate  Fine Aggregate  Age  \n",
       "0            1040.0           676.0   28  \n",
       "1            1055.0           676.0   28  \n",
       "2             932.0           594.0  270  \n",
       "3             932.0           594.0  365  \n",
       "4             978.4           825.5  360  "
      ]
     },
     "execution_count": 7,
     "metadata": {},
     "output_type": "execute_result"
    }
   ],
   "source": [
    "predictors.head()"
   ]
  },
  {
   "cell_type": "code",
   "execution_count": 8,
   "metadata": {
    "button": false,
    "new_sheet": false,
    "run_control": {
     "read_only": false
    }
   },
   "outputs": [
    {
     "data": {
      "text/plain": [
       "0    79.99\n",
       "1    61.89\n",
       "2    40.27\n",
       "3    41.05\n",
       "4    44.30\n",
       "Name: Strength, dtype: float64"
      ]
     },
     "execution_count": 8,
     "metadata": {},
     "output_type": "execute_result"
    }
   ],
   "source": [
    "target.head()"
   ]
  },
  {
   "cell_type": "markdown",
   "metadata": {
    "button": false,
    "new_sheet": false,
    "run_control": {
     "read_only": false
    }
   },
   "source": [
    "Finally, the last step is to normalize the data by substracting the mean and dividing by the standard deviation.\n"
   ]
  },
  {
   "cell_type": "code",
   "execution_count": 9,
   "metadata": {
    "button": false,
    "new_sheet": false,
    "run_control": {
     "read_only": false
    }
   },
   "outputs": [
    {
     "data": {
      "text/html": [
       "<div>\n",
       "<style scoped>\n",
       "    .dataframe tbody tr th:only-of-type {\n",
       "        vertical-align: middle;\n",
       "    }\n",
       "\n",
       "    .dataframe tbody tr th {\n",
       "        vertical-align: top;\n",
       "    }\n",
       "\n",
       "    .dataframe thead th {\n",
       "        text-align: right;\n",
       "    }\n",
       "</style>\n",
       "<table border=\"1\" class=\"dataframe\">\n",
       "  <thead>\n",
       "    <tr style=\"text-align: right;\">\n",
       "      <th></th>\n",
       "      <th>Cement</th>\n",
       "      <th>Blast Furnace Slag</th>\n",
       "      <th>Fly Ash</th>\n",
       "      <th>Water</th>\n",
       "      <th>Superplasticizer</th>\n",
       "      <th>Coarse Aggregate</th>\n",
       "      <th>Fine Aggregate</th>\n",
       "      <th>Age</th>\n",
       "    </tr>\n",
       "  </thead>\n",
       "  <tbody>\n",
       "    <tr>\n",
       "      <th>0</th>\n",
       "      <td>2.476712</td>\n",
       "      <td>-0.856472</td>\n",
       "      <td>-0.846733</td>\n",
       "      <td>-0.916319</td>\n",
       "      <td>-0.620147</td>\n",
       "      <td>0.862735</td>\n",
       "      <td>-1.217079</td>\n",
       "      <td>-0.279597</td>\n",
       "    </tr>\n",
       "    <tr>\n",
       "      <th>1</th>\n",
       "      <td>2.476712</td>\n",
       "      <td>-0.856472</td>\n",
       "      <td>-0.846733</td>\n",
       "      <td>-0.916319</td>\n",
       "      <td>-0.620147</td>\n",
       "      <td>1.055651</td>\n",
       "      <td>-1.217079</td>\n",
       "      <td>-0.279597</td>\n",
       "    </tr>\n",
       "    <tr>\n",
       "      <th>2</th>\n",
       "      <td>0.491187</td>\n",
       "      <td>0.795140</td>\n",
       "      <td>-0.846733</td>\n",
       "      <td>2.174405</td>\n",
       "      <td>-1.038638</td>\n",
       "      <td>-0.526262</td>\n",
       "      <td>-2.239829</td>\n",
       "      <td>3.551340</td>\n",
       "    </tr>\n",
       "    <tr>\n",
       "      <th>3</th>\n",
       "      <td>0.491187</td>\n",
       "      <td>0.795140</td>\n",
       "      <td>-0.846733</td>\n",
       "      <td>2.174405</td>\n",
       "      <td>-1.038638</td>\n",
       "      <td>-0.526262</td>\n",
       "      <td>-2.239829</td>\n",
       "      <td>5.055221</td>\n",
       "    </tr>\n",
       "    <tr>\n",
       "      <th>4</th>\n",
       "      <td>-0.790075</td>\n",
       "      <td>0.678079</td>\n",
       "      <td>-0.846733</td>\n",
       "      <td>0.488555</td>\n",
       "      <td>-1.038638</td>\n",
       "      <td>0.070492</td>\n",
       "      <td>0.647569</td>\n",
       "      <td>4.976069</td>\n",
       "    </tr>\n",
       "  </tbody>\n",
       "</table>\n",
       "</div>"
      ],
      "text/plain": [
       "     Cement  Blast Furnace Slag   Fly Ash     Water  Superplasticizer  \\\n",
       "0  2.476712           -0.856472 -0.846733 -0.916319         -0.620147   \n",
       "1  2.476712           -0.856472 -0.846733 -0.916319         -0.620147   \n",
       "2  0.491187            0.795140 -0.846733  2.174405         -1.038638   \n",
       "3  0.491187            0.795140 -0.846733  2.174405         -1.038638   \n",
       "4 -0.790075            0.678079 -0.846733  0.488555         -1.038638   \n",
       "\n",
       "   Coarse Aggregate  Fine Aggregate       Age  \n",
       "0          0.862735       -1.217079 -0.279597  \n",
       "1          1.055651       -1.217079 -0.279597  \n",
       "2         -0.526262       -2.239829  3.551340  \n",
       "3         -0.526262       -2.239829  5.055221  \n",
       "4          0.070492        0.647569  4.976069  "
      ]
     },
     "execution_count": 9,
     "metadata": {},
     "output_type": "execute_result"
    }
   ],
   "source": [
    "predictors_norm = (predictors - predictors.mean()) / predictors.std()\n",
    "predictors_norm.head()"
   ]
  },
  {
   "cell_type": "markdown",
   "metadata": {},
   "source": [
    "Let's save the number of predictors to _n_cols_ since we will need this number when building our network.\n"
   ]
  },
  {
   "cell_type": "code",
   "execution_count": 13,
   "metadata": {
    "button": false,
    "new_sheet": false,
    "run_control": {
     "read_only": false
    }
   },
   "outputs": [
    {
     "data": {
      "text/plain": [
       "8"
      ]
     },
     "execution_count": 13,
     "metadata": {},
     "output_type": "execute_result"
    }
   ],
   "source": [
    "n_cols = predictors_norm.shape[1] # number of predictors\n",
    "n_cols"
   ]
  },
  {
   "cell_type": "markdown",
   "metadata": {
    "button": false,
    "new_sheet": false,
    "run_control": {
     "read_only": false
    }
   },
   "source": [
    "<a id=\"item1\"></a>\n"
   ]
  },
  {
   "cell_type": "markdown",
   "metadata": {},
   "source": [
    "<a id='item32'></a>\n"
   ]
  },
  {
   "cell_type": "markdown",
   "metadata": {
    "button": false,
    "new_sheet": false,
    "run_control": {
     "read_only": false
    }
   },
   "source": [
    "## Import Keras\n"
   ]
  },
  {
   "cell_type": "markdown",
   "metadata": {
    "button": false,
    "new_sheet": false,
    "run_control": {
     "read_only": false
    }
   },
   "source": [
    "Recall from the videos that Keras normally runs on top of a low-level library such as TensorFlow. This means that to be able to use the Keras library, you will have to install TensorFlow first and when you import the Keras library, it will be explicitly displayed what backend was used to install the Keras library. In CC Labs, we used TensorFlow as the backend to install Keras, so it should clearly print that when we import Keras.\n"
   ]
  },
  {
   "cell_type": "markdown",
   "metadata": {
    "button": false,
    "new_sheet": false,
    "run_control": {
     "read_only": false
    }
   },
   "source": [
    "#### Let's go ahead and import the Keras library\n"
   ]
  },
  {
   "cell_type": "code",
   "execution_count": 11,
   "metadata": {
    "button": false,
    "new_sheet": false,
    "run_control": {
     "read_only": false
    }
   },
   "outputs": [],
   "source": [
    "import keras"
   ]
  },
  {
   "cell_type": "markdown",
   "metadata": {
    "button": false,
    "new_sheet": false,
    "run_control": {
     "read_only": false
    }
   },
   "source": [
    "As you can see, the TensorFlow backend was used to install the Keras library.\n"
   ]
  },
  {
   "cell_type": "markdown",
   "metadata": {
    "button": false,
    "new_sheet": false,
    "run_control": {
     "read_only": false
    }
   },
   "source": [
    "Let's import the rest of the packages from the Keras library that we will need to build our regressoin model.\n"
   ]
  },
  {
   "cell_type": "code",
   "execution_count": 12,
   "metadata": {
    "button": false,
    "new_sheet": false,
    "run_control": {
     "read_only": false
    }
   },
   "outputs": [],
   "source": [
    "from keras.models import Sequential\n",
    "from keras.layers import Dense"
   ]
  },
  {
   "cell_type": "markdown",
   "metadata": {},
   "source": [
    "<a id='item33'></a>\n"
   ]
  },
  {
   "cell_type": "markdown",
   "metadata": {
    "button": false,
    "new_sheet": false,
    "run_control": {
     "read_only": false
    }
   },
   "source": [
    "## Build a Neural Network\n"
   ]
  },
  {
   "cell_type": "markdown",
   "metadata": {
    "button": false,
    "new_sheet": false,
    "run_control": {
     "read_only": false
    }
   },
   "source": [
    "Let's define a function that defines our regression model for us so that we can conveniently call it to create our model.\n"
   ]
  },
  {
   "cell_type": "code",
   "execution_count": 17,
   "metadata": {
    "button": false,
    "new_sheet": false,
    "run_control": {
     "read_only": false
    }
   },
   "outputs": [],
   "source": [
    "# define regression model\n",
    "def regression_model():\n",
    "    # create model\n",
    "    model = Sequential()\n",
    "    model.add(Dense(100, activation='relu', input_shape=(n_cols,)))\n",
    "    model.add(Dense(100, activation='relu'))\n",
    "    model.add(Dense(50, activation='relu'))\n",
    "    model.add(Dense(1))\n",
    "    \n",
    "    # compile model\n",
    "    model.compile(optimizer='adam', loss='mean_squared_error')\n",
    "    return model"
   ]
  },
  {
   "cell_type": "markdown",
   "metadata": {},
   "source": [
    "The above function create a model that has two hidden layers, each of 50 hidden units.\n"
   ]
  },
  {
   "cell_type": "markdown",
   "metadata": {
    "button": false,
    "new_sheet": false,
    "run_control": {
     "read_only": false
    }
   },
   "source": [
    "<a id=\"item4\"></a>\n"
   ]
  },
  {
   "cell_type": "markdown",
   "metadata": {},
   "source": [
    "<a id='item34'></a>\n"
   ]
  },
  {
   "cell_type": "markdown",
   "metadata": {
    "button": false,
    "new_sheet": false,
    "run_control": {
     "read_only": false
    }
   },
   "source": [
    "## Train and Test the Network\n"
   ]
  },
  {
   "cell_type": "markdown",
   "metadata": {},
   "source": [
    "Let's call the function now to create our model.\n"
   ]
  },
  {
   "cell_type": "code",
   "execution_count": 18,
   "metadata": {
    "button": false,
    "new_sheet": false,
    "run_control": {
     "read_only": false
    }
   },
   "outputs": [],
   "source": [
    "# build the model\n",
    "model = regression_model()"
   ]
  },
  {
   "cell_type": "markdown",
   "metadata": {},
   "source": [
    "Next, we will train and test the model at the same time using the _fit_ method. We will leave out 30% of the data for validation and we will train the model for 100 epochs.\n"
   ]
  },
  {
   "cell_type": "code",
   "execution_count": 20,
   "metadata": {},
   "outputs": [
    {
     "name": "stdout",
     "output_type": "stream",
     "text": [
      "Epoch 1/200\n",
      "23/23 - 0s - loss: 13.0904 - val_loss: 131.0053\n",
      "Epoch 2/200\n",
      "23/23 - 0s - loss: 13.1598 - val_loss: 121.4450\n",
      "Epoch 3/200\n",
      "23/23 - 0s - loss: 13.7050 - val_loss: 103.2289\n",
      "Epoch 4/200\n",
      "23/23 - 0s - loss: 13.7916 - val_loss: 108.2200\n",
      "Epoch 5/200\n",
      "23/23 - 0s - loss: 13.1573 - val_loss: 132.0141\n",
      "Epoch 6/200\n",
      "23/23 - 0s - loss: 12.8219 - val_loss: 122.6283\n",
      "Epoch 7/200\n",
      "23/23 - 0s - loss: 14.8611 - val_loss: 140.4085\n",
      "Epoch 8/200\n",
      "23/23 - 0s - loss: 13.4449 - val_loss: 119.0353\n",
      "Epoch 9/200\n",
      "23/23 - 0s - loss: 12.8182 - val_loss: 101.3889\n",
      "Epoch 10/200\n",
      "23/23 - 0s - loss: 13.3524 - val_loss: 114.6378\n",
      "Epoch 11/200\n",
      "23/23 - 0s - loss: 12.7114 - val_loss: 103.3108\n",
      "Epoch 12/200\n",
      "23/23 - 0s - loss: 12.1612 - val_loss: 99.1187\n",
      "Epoch 13/200\n",
      "23/23 - 0s - loss: 12.4271 - val_loss: 116.6493\n",
      "Epoch 14/200\n",
      "23/23 - 0s - loss: 12.4503 - val_loss: 111.5807\n",
      "Epoch 15/200\n",
      "23/23 - 0s - loss: 13.1043 - val_loss: 131.6455\n",
      "Epoch 16/200\n",
      "23/23 - 0s - loss: 13.6291 - val_loss: 109.4049\n",
      "Epoch 17/200\n",
      "23/23 - 0s - loss: 12.3965 - val_loss: 107.0735\n",
      "Epoch 18/200\n",
      "23/23 - 0s - loss: 11.9503 - val_loss: 108.0472\n",
      "Epoch 19/200\n",
      "23/23 - 0s - loss: 12.6780 - val_loss: 140.6188\n",
      "Epoch 20/200\n",
      "23/23 - 0s - loss: 12.7840 - val_loss: 116.6495\n",
      "Epoch 21/200\n",
      "23/23 - 0s - loss: 12.5548 - val_loss: 118.4058\n",
      "Epoch 22/200\n",
      "23/23 - 0s - loss: 12.2291 - val_loss: 128.0797\n",
      "Epoch 23/200\n",
      "23/23 - 0s - loss: 11.8328 - val_loss: 114.5442\n",
      "Epoch 24/200\n",
      "23/23 - 0s - loss: 13.4538 - val_loss: 123.9050\n",
      "Epoch 25/200\n",
      "23/23 - 0s - loss: 11.8829 - val_loss: 110.3142\n",
      "Epoch 26/200\n",
      "23/23 - 0s - loss: 13.1358 - val_loss: 110.3470\n",
      "Epoch 27/200\n",
      "23/23 - 0s - loss: 12.2409 - val_loss: 98.4983\n",
      "Epoch 28/200\n",
      "23/23 - 0s - loss: 12.0257 - val_loss: 124.0165\n",
      "Epoch 29/200\n",
      "23/23 - 0s - loss: 11.4937 - val_loss: 111.4269\n",
      "Epoch 30/200\n",
      "23/23 - 0s - loss: 11.3640 - val_loss: 107.6394\n",
      "Epoch 31/200\n",
      "23/23 - 0s - loss: 11.6195 - val_loss: 110.7524\n",
      "Epoch 32/200\n",
      "23/23 - 0s - loss: 11.2889 - val_loss: 119.3507\n",
      "Epoch 33/200\n",
      "23/23 - 0s - loss: 11.4374 - val_loss: 130.0692\n",
      "Epoch 34/200\n",
      "23/23 - 0s - loss: 10.8789 - val_loss: 114.0209\n",
      "Epoch 35/200\n",
      "23/23 - 0s - loss: 11.1136 - val_loss: 100.3271\n",
      "Epoch 36/200\n",
      "23/23 - 0s - loss: 11.4449 - val_loss: 106.2272\n",
      "Epoch 37/200\n",
      "23/23 - 0s - loss: 10.8047 - val_loss: 114.9405\n",
      "Epoch 38/200\n",
      "23/23 - 0s - loss: 10.7613 - val_loss: 103.4959\n",
      "Epoch 39/200\n",
      "23/23 - 0s - loss: 11.2876 - val_loss: 104.8957\n",
      "Epoch 40/200\n",
      "23/23 - 0s - loss: 11.3029 - val_loss: 107.5839\n",
      "Epoch 41/200\n",
      "23/23 - 0s - loss: 11.4077 - val_loss: 101.8329\n",
      "Epoch 42/200\n",
      "23/23 - 0s - loss: 11.0931 - val_loss: 112.2718\n",
      "Epoch 43/200\n",
      "23/23 - 0s - loss: 11.5000 - val_loss: 100.0617\n",
      "Epoch 44/200\n",
      "23/23 - 0s - loss: 10.8999 - val_loss: 109.6929\n",
      "Epoch 45/200\n",
      "23/23 - 0s - loss: 11.3968 - val_loss: 134.5387\n",
      "Epoch 46/200\n",
      "23/23 - 0s - loss: 11.1916 - val_loss: 100.1485\n",
      "Epoch 47/200\n",
      "23/23 - 0s - loss: 11.3591 - val_loss: 107.8162\n",
      "Epoch 48/200\n",
      "23/23 - 0s - loss: 11.7891 - val_loss: 117.8311\n",
      "Epoch 49/200\n",
      "23/23 - 0s - loss: 11.0283 - val_loss: 108.7625\n",
      "Epoch 50/200\n",
      "23/23 - 0s - loss: 10.7445 - val_loss: 97.5705\n",
      "Epoch 51/200\n",
      "23/23 - 0s - loss: 10.9398 - val_loss: 109.7203\n",
      "Epoch 52/200\n",
      "23/23 - 0s - loss: 11.2391 - val_loss: 131.4796\n",
      "Epoch 53/200\n",
      "23/23 - 0s - loss: 11.9412 - val_loss: 134.1654\n",
      "Epoch 54/200\n",
      "23/23 - 0s - loss: 12.3169 - val_loss: 123.2993\n",
      "Epoch 55/200\n",
      "23/23 - 0s - loss: 11.0916 - val_loss: 107.1218\n",
      "Epoch 56/200\n",
      "23/23 - 0s - loss: 10.5173 - val_loss: 111.5867\n",
      "Epoch 57/200\n",
      "23/23 - 0s - loss: 10.9984 - val_loss: 123.2999\n",
      "Epoch 58/200\n",
      "23/23 - 0s - loss: 12.5832 - val_loss: 106.5814\n",
      "Epoch 59/200\n",
      "23/23 - 0s - loss: 10.8050 - val_loss: 105.9112\n",
      "Epoch 60/200\n",
      "23/23 - 0s - loss: 9.8055 - val_loss: 102.2211\n",
      "Epoch 61/200\n",
      "23/23 - 0s - loss: 10.6017 - val_loss: 100.6710\n",
      "Epoch 62/200\n",
      "23/23 - 0s - loss: 10.2210 - val_loss: 92.8594\n",
      "Epoch 63/200\n",
      "23/23 - 0s - loss: 10.9641 - val_loss: 133.0783\n",
      "Epoch 64/200\n",
      "23/23 - 0s - loss: 11.9275 - val_loss: 136.5305\n",
      "Epoch 65/200\n",
      "23/23 - 0s - loss: 11.6355 - val_loss: 138.9510\n",
      "Epoch 66/200\n",
      "23/23 - 0s - loss: 10.8086 - val_loss: 110.7762\n",
      "Epoch 67/200\n",
      "23/23 - 0s - loss: 9.7381 - val_loss: 101.8763\n",
      "Epoch 68/200\n",
      "23/23 - 0s - loss: 10.1154 - val_loss: 112.0314\n",
      "Epoch 69/200\n",
      "23/23 - 0s - loss: 9.6174 - val_loss: 120.2560\n",
      "Epoch 70/200\n",
      "23/23 - 0s - loss: 10.6275 - val_loss: 122.5667\n",
      "Epoch 71/200\n",
      "23/23 - 0s - loss: 10.2224 - val_loss: 104.6064\n",
      "Epoch 72/200\n",
      "23/23 - 0s - loss: 9.9326 - val_loss: 106.9185\n",
      "Epoch 73/200\n",
      "23/23 - 0s - loss: 10.3706 - val_loss: 125.5647\n",
      "Epoch 74/200\n",
      "23/23 - 0s - loss: 11.1186 - val_loss: 114.6074\n",
      "Epoch 75/200\n",
      "23/23 - 0s - loss: 10.8427 - val_loss: 112.6196\n",
      "Epoch 76/200\n",
      "23/23 - 0s - loss: 9.7094 - val_loss: 117.5962\n",
      "Epoch 77/200\n",
      "23/23 - 0s - loss: 9.7798 - val_loss: 107.8482\n",
      "Epoch 78/200\n",
      "23/23 - 0s - loss: 9.6942 - val_loss: 106.8953\n",
      "Epoch 79/200\n",
      "23/23 - 0s - loss: 11.4678 - val_loss: 103.7697\n",
      "Epoch 80/200\n",
      "23/23 - 0s - loss: 10.0135 - val_loss: 116.1717\n",
      "Epoch 81/200\n",
      "23/23 - 0s - loss: 9.9720 - val_loss: 136.5835\n",
      "Epoch 82/200\n",
      "23/23 - 0s - loss: 11.3930 - val_loss: 129.8639\n",
      "Epoch 83/200\n",
      "23/23 - 0s - loss: 10.7237 - val_loss: 112.5303\n",
      "Epoch 84/200\n",
      "23/23 - 0s - loss: 10.4464 - val_loss: 115.6755\n",
      "Epoch 85/200\n",
      "23/23 - 0s - loss: 9.8875 - val_loss: 122.4843\n",
      "Epoch 86/200\n",
      "23/23 - 0s - loss: 9.5546 - val_loss: 108.6697\n",
      "Epoch 87/200\n",
      "23/23 - 0s - loss: 10.3061 - val_loss: 93.0038\n",
      "Epoch 88/200\n",
      "23/23 - 0s - loss: 11.1887 - val_loss: 112.9912\n",
      "Epoch 89/200\n",
      "23/23 - 0s - loss: 9.2097 - val_loss: 122.9265\n",
      "Epoch 90/200\n",
      "23/23 - 0s - loss: 10.0105 - val_loss: 128.3618\n",
      "Epoch 91/200\n",
      "23/23 - 0s - loss: 12.2034 - val_loss: 119.3700\n",
      "Epoch 92/200\n",
      "23/23 - 0s - loss: 9.8655 - val_loss: 112.4653\n",
      "Epoch 93/200\n",
      "23/23 - 0s - loss: 10.5320 - val_loss: 140.6966\n",
      "Epoch 94/200\n",
      "23/23 - 0s - loss: 9.9131 - val_loss: 126.9784\n",
      "Epoch 95/200\n",
      "23/23 - 0s - loss: 9.1943 - val_loss: 118.9429\n",
      "Epoch 96/200\n",
      "23/23 - 0s - loss: 9.2016 - val_loss: 132.5584\n",
      "Epoch 97/200\n",
      "23/23 - 0s - loss: 9.9744 - val_loss: 139.6894\n",
      "Epoch 98/200\n",
      "23/23 - 0s - loss: 10.7933 - val_loss: 113.7911\n",
      "Epoch 99/200\n",
      "23/23 - 0s - loss: 9.3930 - val_loss: 116.1048\n",
      "Epoch 100/200\n",
      "23/23 - 0s - loss: 8.8020 - val_loss: 110.6677\n",
      "Epoch 101/200\n",
      "23/23 - 0s - loss: 8.9671 - val_loss: 130.6875\n",
      "Epoch 102/200\n",
      "23/23 - 0s - loss: 9.5001 - val_loss: 111.7068\n",
      "Epoch 103/200\n",
      "23/23 - 0s - loss: 9.0628 - val_loss: 126.4813\n",
      "Epoch 104/200\n",
      "23/23 - 0s - loss: 9.6063 - val_loss: 108.4903\n",
      "Epoch 105/200\n",
      "23/23 - 0s - loss: 9.2479 - val_loss: 124.7799\n",
      "Epoch 106/200\n",
      "23/23 - 0s - loss: 8.9202 - val_loss: 118.7543\n",
      "Epoch 107/200\n",
      "23/23 - 0s - loss: 8.8460 - val_loss: 120.5664\n",
      "Epoch 108/200\n",
      "23/23 - 0s - loss: 9.2208 - val_loss: 121.4164\n",
      "Epoch 109/200\n",
      "23/23 - 0s - loss: 9.0218 - val_loss: 116.4747\n",
      "Epoch 110/200\n",
      "23/23 - 0s - loss: 9.3272 - val_loss: 112.0924\n",
      "Epoch 111/200\n",
      "23/23 - 0s - loss: 9.1341 - val_loss: 107.1221\n",
      "Epoch 112/200\n",
      "23/23 - 0s - loss: 8.5684 - val_loss: 116.3738\n",
      "Epoch 113/200\n",
      "23/23 - 0s - loss: 9.4995 - val_loss: 116.8986\n",
      "Epoch 114/200\n",
      "23/23 - 0s - loss: 10.7807 - val_loss: 115.5340\n",
      "Epoch 115/200\n",
      "23/23 - 0s - loss: 10.3926 - val_loss: 132.1357\n",
      "Epoch 116/200\n",
      "23/23 - 0s - loss: 9.4996 - val_loss: 99.8261\n",
      "Epoch 117/200\n",
      "23/23 - 0s - loss: 9.3103 - val_loss: 112.4303\n",
      "Epoch 118/200\n",
      "23/23 - 0s - loss: 9.3366 - val_loss: 123.2526\n",
      "Epoch 119/200\n",
      "23/23 - 0s - loss: 8.7510 - val_loss: 109.9515\n",
      "Epoch 120/200\n",
      "23/23 - 0s - loss: 9.5710 - val_loss: 123.5020\n",
      "Epoch 121/200\n",
      "23/23 - 0s - loss: 9.2893 - val_loss: 117.8170\n",
      "Epoch 122/200\n",
      "23/23 - 0s - loss: 11.0470 - val_loss: 118.6810\n",
      "Epoch 123/200\n",
      "23/23 - 0s - loss: 11.2145 - val_loss: 98.3121\n",
      "Epoch 124/200\n",
      "23/23 - 0s - loss: 9.4791 - val_loss: 111.7332\n",
      "Epoch 125/200\n",
      "23/23 - 0s - loss: 8.5710 - val_loss: 137.0853\n",
      "Epoch 126/200\n",
      "23/23 - 0s - loss: 9.2016 - val_loss: 116.6365\n",
      "Epoch 127/200\n",
      "23/23 - 0s - loss: 9.2973 - val_loss: 121.1383\n",
      "Epoch 128/200\n",
      "23/23 - 0s - loss: 9.3219 - val_loss: 133.1791\n",
      "Epoch 129/200\n",
      "23/23 - 0s - loss: 9.6877 - val_loss: 132.0226\n",
      "Epoch 130/200\n",
      "23/23 - 0s - loss: 9.2317 - val_loss: 133.0491\n",
      "Epoch 131/200\n",
      "23/23 - 0s - loss: 8.2819 - val_loss: 113.5852\n",
      "Epoch 132/200\n",
      "23/23 - 0s - loss: 9.1598 - val_loss: 129.5965\n",
      "Epoch 133/200\n",
      "23/23 - 0s - loss: 8.9407 - val_loss: 113.4303\n",
      "Epoch 134/200\n",
      "23/23 - 0s - loss: 8.9324 - val_loss: 131.8285\n",
      "Epoch 135/200\n",
      "23/23 - 0s - loss: 9.2162 - val_loss: 109.2441\n"
     ]
    },
    {
     "name": "stdout",
     "output_type": "stream",
     "text": [
      "Epoch 136/200\n",
      "23/23 - 0s - loss: 8.2587 - val_loss: 108.0585\n",
      "Epoch 137/200\n",
      "23/23 - 0s - loss: 9.6165 - val_loss: 131.2064\n",
      "Epoch 138/200\n",
      "23/23 - 0s - loss: 9.0184 - val_loss: 116.1364\n",
      "Epoch 139/200\n",
      "23/23 - 0s - loss: 8.2812 - val_loss: 117.8159\n",
      "Epoch 140/200\n",
      "23/23 - 0s - loss: 8.8127 - val_loss: 120.2139\n",
      "Epoch 141/200\n",
      "23/23 - 0s - loss: 8.1037 - val_loss: 119.1360\n",
      "Epoch 142/200\n",
      "23/23 - 0s - loss: 7.9965 - val_loss: 124.1229\n",
      "Epoch 143/200\n",
      "23/23 - 0s - loss: 9.3724 - val_loss: 122.0285\n",
      "Epoch 144/200\n",
      "23/23 - 0s - loss: 9.1521 - val_loss: 128.4436\n",
      "Epoch 145/200\n",
      "23/23 - 0s - loss: 8.4679 - val_loss: 126.6683\n",
      "Epoch 146/200\n",
      "23/23 - 0s - loss: 9.2514 - val_loss: 130.1002\n",
      "Epoch 147/200\n",
      "23/23 - 0s - loss: 8.1258 - val_loss: 125.7380\n",
      "Epoch 148/200\n",
      "23/23 - 0s - loss: 8.5977 - val_loss: 135.8395\n",
      "Epoch 149/200\n",
      "23/23 - 0s - loss: 8.8715 - val_loss: 108.9526\n",
      "Epoch 150/200\n",
      "23/23 - 0s - loss: 8.5412 - val_loss: 122.1863\n",
      "Epoch 151/200\n",
      "23/23 - 0s - loss: 10.2329 - val_loss: 120.3856\n",
      "Epoch 152/200\n",
      "23/23 - 0s - loss: 9.4806 - val_loss: 129.3942\n",
      "Epoch 153/200\n",
      "23/23 - 0s - loss: 9.9654 - val_loss: 127.5722\n",
      "Epoch 154/200\n",
      "23/23 - 0s - loss: 8.3654 - val_loss: 117.9310\n",
      "Epoch 155/200\n",
      "23/23 - 0s - loss: 9.5960 - val_loss: 123.0747\n",
      "Epoch 156/200\n",
      "23/23 - 0s - loss: 8.1119 - val_loss: 122.3746\n",
      "Epoch 157/200\n",
      "23/23 - 0s - loss: 8.2080 - val_loss: 122.1088\n",
      "Epoch 158/200\n",
      "23/23 - 0s - loss: 8.4115 - val_loss: 126.7754\n",
      "Epoch 159/200\n",
      "23/23 - 0s - loss: 8.5593 - val_loss: 132.6531\n",
      "Epoch 160/200\n",
      "23/23 - 0s - loss: 8.4968 - val_loss: 141.3741\n",
      "Epoch 161/200\n",
      "23/23 - 0s - loss: 9.3084 - val_loss: 127.2349\n",
      "Epoch 162/200\n",
      "23/23 - 0s - loss: 7.6822 - val_loss: 125.6370\n",
      "Epoch 163/200\n",
      "23/23 - 0s - loss: 8.4847 - val_loss: 126.5094\n",
      "Epoch 164/200\n",
      "23/23 - 0s - loss: 8.1531 - val_loss: 106.7369\n",
      "Epoch 165/200\n",
      "23/23 - 0s - loss: 9.2671 - val_loss: 111.8050\n",
      "Epoch 166/200\n",
      "23/23 - 0s - loss: 8.3433 - val_loss: 141.6192\n",
      "Epoch 167/200\n",
      "23/23 - 0s - loss: 7.8632 - val_loss: 126.2423\n",
      "Epoch 168/200\n",
      "23/23 - 0s - loss: 8.0411 - val_loss: 125.2237\n",
      "Epoch 169/200\n",
      "23/23 - 0s - loss: 8.2085 - val_loss: 116.5602\n",
      "Epoch 170/200\n",
      "23/23 - 0s - loss: 8.1046 - val_loss: 116.9945\n",
      "Epoch 171/200\n",
      "23/23 - 0s - loss: 8.3781 - val_loss: 132.1523\n",
      "Epoch 172/200\n",
      "23/23 - 0s - loss: 9.0775 - val_loss: 124.5165\n",
      "Epoch 173/200\n",
      "23/23 - 0s - loss: 8.2014 - val_loss: 139.5153\n",
      "Epoch 174/200\n",
      "23/23 - 0s - loss: 7.9680 - val_loss: 118.7717\n",
      "Epoch 175/200\n",
      "23/23 - 0s - loss: 7.4874 - val_loss: 130.5485\n",
      "Epoch 176/200\n",
      "23/23 - 0s - loss: 7.6993 - val_loss: 124.1555\n",
      "Epoch 177/200\n",
      "23/23 - 0s - loss: 8.7286 - val_loss: 121.6508\n",
      "Epoch 178/200\n",
      "23/23 - 0s - loss: 8.2312 - val_loss: 129.7681\n",
      "Epoch 179/200\n",
      "23/23 - 0s - loss: 7.8793 - val_loss: 130.1725\n",
      "Epoch 180/200\n",
      "23/23 - 0s - loss: 7.7176 - val_loss: 106.4046\n",
      "Epoch 181/200\n",
      "23/23 - 0s - loss: 7.8221 - val_loss: 139.8808\n",
      "Epoch 182/200\n",
      "23/23 - 0s - loss: 7.6920 - val_loss: 116.8633\n",
      "Epoch 183/200\n",
      "23/23 - 0s - loss: 7.6895 - val_loss: 127.5801\n",
      "Epoch 184/200\n",
      "23/23 - 0s - loss: 7.6424 - val_loss: 122.6994\n",
      "Epoch 185/200\n",
      "23/23 - 0s - loss: 7.6065 - val_loss: 139.4732\n",
      "Epoch 186/200\n",
      "23/23 - 0s - loss: 9.1312 - val_loss: 145.7321\n",
      "Epoch 187/200\n",
      "23/23 - 0s - loss: 8.5480 - val_loss: 130.0449\n",
      "Epoch 188/200\n",
      "23/23 - 0s - loss: 7.2784 - val_loss: 133.3029\n",
      "Epoch 189/200\n",
      "23/23 - 0s - loss: 7.1561 - val_loss: 134.1068\n",
      "Epoch 190/200\n",
      "23/23 - 0s - loss: 7.7711 - val_loss: 133.1949\n",
      "Epoch 191/200\n",
      "23/23 - 0s - loss: 7.5584 - val_loss: 118.4148\n",
      "Epoch 192/200\n",
      "23/23 - 0s - loss: 8.0006 - val_loss: 127.9468\n",
      "Epoch 193/200\n",
      "23/23 - 0s - loss: 7.4826 - val_loss: 133.6172\n",
      "Epoch 194/200\n",
      "23/23 - 0s - loss: 8.9426 - val_loss: 129.9877\n",
      "Epoch 195/200\n",
      "23/23 - 0s - loss: 8.3953 - val_loss: 112.9337\n",
      "Epoch 196/200\n",
      "23/23 - 0s - loss: 7.2921 - val_loss: 131.3814\n",
      "Epoch 197/200\n",
      "23/23 - 0s - loss: 7.4930 - val_loss: 128.6960\n",
      "Epoch 198/200\n",
      "23/23 - 0s - loss: 7.5561 - val_loss: 132.9503\n",
      "Epoch 199/200\n",
      "23/23 - 0s - loss: 7.3495 - val_loss: 124.1581\n",
      "Epoch 200/200\n",
      "23/23 - 0s - loss: 8.5408 - val_loss: 127.9352\n"
     ]
    },
    {
     "data": {
      "text/plain": [
       "<tensorflow.python.keras.callbacks.History at 0x256bcebd460>"
      ]
     },
     "execution_count": 20,
     "metadata": {},
     "output_type": "execute_result"
    }
   ],
   "source": [
    "# fit the model\n",
    "model.fit(predictors_norm, target, validation_split=0.3, epochs=200, verbose=2)"
   ]
  },
  {
   "cell_type": "markdown",
   "metadata": {
    "button": false,
    "new_sheet": false,
    "run_control": {
     "read_only": false
    }
   },
   "source": [
    "<strong>You can refer to this [link](https://keras.io/models/sequential?cm_mmc=Email_Newsletter-_-Developer_Ed%2BTech-_-WW_WW-_-SkillsNetwork-Courses-IBMDeveloperSkillsNetwork-DL0101EN-SkillsNetwork-20718188&cm_mmca1=000026UJ&cm_mmca2=10006555&cm_mmca3=M12345678&cvosrc=email.Newsletter.M12345678&cvo_campaign=000026UJ&cm_mmc=Email_Newsletter-_-Developer_Ed%2BTech-_-WW_WW-_-SkillsNetwork-Courses-IBMDeveloperSkillsNetwork-DL0101EN-SkillsNetwork-20718188&cm_mmca1=000026UJ&cm_mmca2=10006555&cm_mmca3=M12345678&cvosrc=email.Newsletter.M12345678&cvo_campaign=000026UJ&cm_mmc=Email_Newsletter-_-Developer_Ed%2BTech-_-WW_WW-_-SkillsNetwork-Courses-IBMDeveloperSkillsNetwork-DL0101EN-SkillsNetwork-20718188&cm_mmca1=000026UJ&cm_mmca2=10006555&cm_mmca3=M12345678&cvosrc=email.Newsletter.M12345678&cvo_campaign=000026UJ) to learn about other functions that you can use for prediction or evaluation.</strong>\n"
   ]
  },
  {
   "cell_type": "markdown",
   "metadata": {
    "button": false,
    "new_sheet": false,
    "run_control": {
     "read_only": false
    }
   },
   "source": [
    "Feel free to vary the following and note what impact each change has on the model's performance:\n",
    "\n",
    "1.  Increase or decreate number of neurons in hidden layers\n",
    "2.  Add more hidden layers\n",
    "3.  Increase number of epochs\n"
   ]
  },
  {
   "cell_type": "markdown",
   "metadata": {
    "button": false,
    "new_sheet": false,
    "run_control": {
     "read_only": false
    }
   },
   "source": [
    "### Thank you for completing this lab!\n",
    "\n",
    "This notebook was created by [Alex Aklson](https://www.linkedin.com/in/aklson?cm_mmc=Email_Newsletter-_-Developer_Ed%2BTech-_-WW_WW-_-SkillsNetwork-Courses-IBMDeveloperSkillsNetwork-DL0101EN-SkillsNetwork-20718188&cm_mmca1=000026UJ&cm_mmca2=10006555&cm_mmca3=M12345678&cvosrc=email.Newsletter.M12345678&cvo_campaign=000026UJ&cm_mmc=Email_Newsletter-_-Developer_Ed%2BTech-_-WW_WW-_-SkillsNetwork-Courses-IBMDeveloperSkillsNetwork-DL0101EN-SkillsNetwork-20718188&cm_mmca1=000026UJ&cm_mmca2=10006555&cm_mmca3=M12345678&cvosrc=email.Newsletter.M12345678&cvo_campaign=000026UJ). I hope you found this lab interesting and educational. Feel free to contact me if you have any questions!\n"
   ]
  },
  {
   "cell_type": "markdown",
   "metadata": {},
   "source": [
    "## Change Log\n",
    "\n",
    "| Date (YYYY-MM-DD) | Version | Changed By | Change Description                                          |\n",
    "| ----------------- | ------- | ---------- | ----------------------------------------------------------- |\n",
    "| 2020-09-21        | 2.0     | Srishti    | Migrated Lab to Markdown and added to course repo in GitLab |\n",
    "\n",
    "<hr>\n",
    "\n",
    "## <h3 align=\"center\"> © IBM Corporation 2020. All rights reserved. <h3/>\n"
   ]
  },
  {
   "cell_type": "markdown",
   "metadata": {
    "button": false,
    "new_sheet": false,
    "run_control": {
     "read_only": false
    }
   },
   "source": [
    "This notebook is part of a course on **Coursera** called _Introduction to Deep Learning & Neural Networks with Keras_. If you accessed this notebook outside the course, you can take this course online by clicking [here](https://cocl.us/DL0101EN_Coursera_Week3_LAB1).\n"
   ]
  },
  {
   "cell_type": "markdown",
   "metadata": {
    "button": false,
    "new_sheet": false,
    "run_control": {
     "read_only": false
    }
   },
   "source": [
    "<hr>\n",
    "\n",
    "Copyright © 2019 [IBM Developer Skills Network](https://cognitiveclass.ai?utm_source=bducopyrightlink&utm_medium=dswb&utm_campaign=bdu&cm_mmc=Email_Newsletter-_-Developer_Ed%2BTech-_-WW_WW-_-SkillsNetwork-Courses-IBMDeveloperSkillsNetwork-DL0101EN-SkillsNetwork-20718188&cm_mmca1=000026UJ&cm_mmca2=10006555&cm_mmca3=M12345678&cvosrc=email.Newsletter.M12345678&cvo_campaign=000026UJ&cm_mmc=Email_Newsletter-_-Developer_Ed%2BTech-_-WW_WW-_-SkillsNetwork-Courses-IBMDeveloperSkillsNetwork-DL0101EN-SkillsNetwork-20718188&cm_mmca1=000026UJ&cm_mmca2=10006555&cm_mmca3=M12345678&cvosrc=email.Newsletter.M12345678&cvo_campaign=000026UJ&cm_mmc=Email_Newsletter-_-Developer_Ed%2BTech-_-WW_WW-_-SkillsNetwork-Courses-IBMDeveloperSkillsNetwork-DL0101EN-SkillsNetwork-20718188&cm_mmca1=000026UJ&cm_mmca2=10006555&cm_mmca3=M12345678&cvosrc=email.Newsletter.M12345678&cvo_campaign=000026UJ&cm_mmc=Email_Newsletter-_-Developer_Ed%2BTech-_-WW_WW-_-SkillsNetwork-Courses-IBMDeveloperSkillsNetwork-DL0101EN-SkillsNetwork-20718188&cm_mmca1=000026UJ&cm_mmca2=10006555&cm_mmca3=M12345678&cvosrc=email.Newsletter.M12345678&cvo_campaign=000026UJ). This notebook and its source code are released under the terms of the [MIT License](https://bigdatauniversity.com/mit-license?cm_mmc=Email_Newsletter-_-Developer_Ed%2BTech-_-WW_WW-_-SkillsNetwork-Courses-IBMDeveloperSkillsNetwork-DL0101EN-SkillsNetwork-20718188&cm_mmca1=000026UJ&cm_mmca2=10006555&cm_mmca3=M12345678&cvosrc=email.Newsletter.M12345678&cvo_campaign=000026UJ&cm_mmc=Email_Newsletter-_-Developer_Ed%2BTech-_-WW_WW-_-SkillsNetwork-Courses-IBMDeveloperSkillsNetwork-DL0101EN-SkillsNetwork-20718188&cm_mmca1=000026UJ&cm_mmca2=10006555&cm_mmca3=M12345678&cvosrc=email.Newsletter.M12345678&cvo_campaign=000026UJ).\n"
   ]
  }
 ],
 "metadata": {
  "kernelspec": {
   "display_name": "Python 3",
   "language": "python",
   "name": "python3"
  },
  "language_info": {
   "codemirror_mode": {
    "name": "ipython",
    "version": 3
   },
   "file_extension": ".py",
   "mimetype": "text/x-python",
   "name": "python",
   "nbconvert_exporter": "python",
   "pygments_lexer": "ipython3",
   "version": "3.8.5"
  }
 },
 "nbformat": 4,
 "nbformat_minor": 4
}
